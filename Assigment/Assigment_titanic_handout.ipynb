{
 "cells": [
  {
   "cell_type": "markdown",
   "metadata": {},
   "source": [
    "# Assigment 3\n",
    "#### In this assigment you fetch a dataset, explore it, and perform ML to predict the survival of a given person in the Titanic disaster.\n",
    "\n",
    "These first cells are given and you should not (hopefully) need to touch them..."
   ]
  },
  {
   "cell_type": "code",
   "execution_count": 1,
   "metadata": {},
   "outputs": [],
   "source": [
    "from sklearn.datasets import fetch_openml\n",
    "import pandas as pd\n",
    "import matplotlib.pyplot as plt\n",
    "import numpy as np\n",
    "import seaborn as sns\n",
    "import matplotlib as mpl\n",
    "\n",
    "mpl.rcParams['figure.figsize'] = (12,6)\n",
    "sns.set_style(\"whitegrid\", {\"axes.facecolor\": \".99\"})"
   ]
  },
  {
   "cell_type": "markdown",
   "metadata": {},
   "source": [
    "### We shall simulate our own Kaggle competition: [titanic](https://www.kaggle.com/c/titanic)\n",
    "We can download the data used fromm openML so no need to sign up into Kaggle if you don't want to. However, if you get stuck there are a lot of instructions/resources in Kaggle to get you going.\n",
    "\n",
    "The point of the assignment is to explore the kind of information you can extract from the provided dataset. In this notebook you find some questions that ought to make guide you if stuck, but you can figure out interesting questions yourselves and answer those - maybe you can find something that I (or others) have not spotted. Try to build understanding of who were likely to survive. Use this understanding to build a simple model that can make predictions if a given person did survive before proceeding to using scikit-learn to make similar predictions. The more elaborate classifiers ought to beat you simple dummy model!\n",
    "\n",
    "***\n",
    "We shall not do much statistics here and you can omit confidence intervals etc., the probability for survival in a group of people $G$ can be expressed as:\n",
    "\n",
    "$\n",
    "p_\\text{survival}(G) = \\frac{n_\\text{survived}(G)}{n_\\text{people}(G)} = \\frac{1}{|G|} \\sum_{i \\in G} S_i = \\text{mean}(S(G)),\n",
    "$\n",
    "\n",
    "where $|G|$ is the number of people in group $G$ and $S_i$ is the Survived column value ({0, 1}) of person i. "
   ]
  },
  {
   "cell_type": "code",
   "execution_count": 2,
   "metadata": {},
   "outputs": [
    {
     "name": "stdout",
     "output_type": "stream",
     "text": [
      "Before imputing:\n"
     ]
    },
    {
     "data": {
      "text/html": [
       "<div>\n",
       "<style scoped>\n",
       "    .dataframe tbody tr th:only-of-type {\n",
       "        vertical-align: middle;\n",
       "    }\n",
       "\n",
       "    .dataframe tbody tr th {\n",
       "        vertical-align: top;\n",
       "    }\n",
       "\n",
       "    .dataframe thead th {\n",
       "        text-align: right;\n",
       "    }\n",
       "</style>\n",
       "<table border=\"1\" class=\"dataframe\">\n",
       "  <thead>\n",
       "    <tr style=\"text-align: right;\">\n",
       "      <th></th>\n",
       "      <th>count null</th>\n",
       "      <th>count unique</th>\n",
       "      <th>dtype</th>\n",
       "    </tr>\n",
       "  </thead>\n",
       "  <tbody>\n",
       "    <tr>\n",
       "      <th>Pclass</th>\n",
       "      <td>0</td>\n",
       "      <td>3</td>\n",
       "      <td>float64</td>\n",
       "    </tr>\n",
       "    <tr>\n",
       "      <th>Sex</th>\n",
       "      <td>0</td>\n",
       "      <td>2</td>\n",
       "      <td>category</td>\n",
       "    </tr>\n",
       "    <tr>\n",
       "      <th>Age</th>\n",
       "      <td>263</td>\n",
       "      <td>98</td>\n",
       "      <td>float64</td>\n",
       "    </tr>\n",
       "    <tr>\n",
       "      <th>Sibsp</th>\n",
       "      <td>0</td>\n",
       "      <td>7</td>\n",
       "      <td>float64</td>\n",
       "    </tr>\n",
       "    <tr>\n",
       "      <th>Parch</th>\n",
       "      <td>0</td>\n",
       "      <td>8</td>\n",
       "      <td>float64</td>\n",
       "    </tr>\n",
       "    <tr>\n",
       "      <th>Fare</th>\n",
       "      <td>1</td>\n",
       "      <td>281</td>\n",
       "      <td>float64</td>\n",
       "    </tr>\n",
       "    <tr>\n",
       "      <th>Cabin</th>\n",
       "      <td>1014</td>\n",
       "      <td>186</td>\n",
       "      <td>object</td>\n",
       "    </tr>\n",
       "    <tr>\n",
       "      <th>Embarked</th>\n",
       "      <td>2</td>\n",
       "      <td>3</td>\n",
       "      <td>category</td>\n",
       "    </tr>\n",
       "  </tbody>\n",
       "</table>\n",
       "</div>"
      ],
      "text/plain": [
       "          count null  count unique     dtype\n",
       "Pclass             0             3   float64\n",
       "Sex                0             2  category\n",
       "Age              263            98   float64\n",
       "Sibsp              0             7   float64\n",
       "Parch              0             8   float64\n",
       "Fare               1           281   float64\n",
       "Cabin           1014           186    object\n",
       "Embarked           2             3  category"
      ]
     },
     "metadata": {},
     "output_type": "display_data"
    },
    {
     "name": "stdout",
     "output_type": "stream",
     "text": [
      "After imputing:\n"
     ]
    },
    {
     "data": {
      "text/html": [
       "<div>\n",
       "<style scoped>\n",
       "    .dataframe tbody tr th:only-of-type {\n",
       "        vertical-align: middle;\n",
       "    }\n",
       "\n",
       "    .dataframe tbody tr th {\n",
       "        vertical-align: top;\n",
       "    }\n",
       "\n",
       "    .dataframe thead th {\n",
       "        text-align: right;\n",
       "    }\n",
       "</style>\n",
       "<table border=\"1\" class=\"dataframe\">\n",
       "  <thead>\n",
       "    <tr style=\"text-align: right;\">\n",
       "      <th></th>\n",
       "      <th>count null</th>\n",
       "      <th>count unique</th>\n",
       "      <th>dtype</th>\n",
       "    </tr>\n",
       "  </thead>\n",
       "  <tbody>\n",
       "    <tr>\n",
       "      <th>Cabin</th>\n",
       "      <td>0</td>\n",
       "      <td>8</td>\n",
       "      <td>category</td>\n",
       "    </tr>\n",
       "    <tr>\n",
       "      <th>Embarked</th>\n",
       "      <td>0</td>\n",
       "      <td>3</td>\n",
       "      <td>category</td>\n",
       "    </tr>\n",
       "    <tr>\n",
       "      <th>Sex</th>\n",
       "      <td>0</td>\n",
       "      <td>2</td>\n",
       "      <td>category</td>\n",
       "    </tr>\n",
       "    <tr>\n",
       "      <th>Age</th>\n",
       "      <td>0</td>\n",
       "      <td>99</td>\n",
       "      <td>float64</td>\n",
       "    </tr>\n",
       "    <tr>\n",
       "      <th>Fare</th>\n",
       "      <td>0</td>\n",
       "      <td>282</td>\n",
       "      <td>float64</td>\n",
       "    </tr>\n",
       "    <tr>\n",
       "      <th>Pclass</th>\n",
       "      <td>0</td>\n",
       "      <td>3</td>\n",
       "      <td>int64</td>\n",
       "    </tr>\n",
       "    <tr>\n",
       "      <th>Sibsp</th>\n",
       "      <td>0</td>\n",
       "      <td>7</td>\n",
       "      <td>int64</td>\n",
       "    </tr>\n",
       "    <tr>\n",
       "      <th>Parch</th>\n",
       "      <td>0</td>\n",
       "      <td>8</td>\n",
       "      <td>int64</td>\n",
       "    </tr>\n",
       "  </tbody>\n",
       "</table>\n",
       "</div>"
      ],
      "text/plain": [
       "          count null  count unique     dtype\n",
       "Cabin              0             8  category\n",
       "Embarked           0             3  category\n",
       "Sex                0             2  category\n",
       "Age                0            99   float64\n",
       "Fare               0           282   float64\n",
       "Pclass             0             3     int64\n",
       "Sibsp              0             7     int64\n",
       "Parch              0             8     int64"
      ]
     },
     "metadata": {},
     "output_type": "display_data"
    },
    {
     "data": {
      "text/html": [
       "<div>\n",
       "<style scoped>\n",
       "    .dataframe tbody tr th:only-of-type {\n",
       "        vertical-align: middle;\n",
       "    }\n",
       "\n",
       "    .dataframe tbody tr th {\n",
       "        vertical-align: top;\n",
       "    }\n",
       "\n",
       "    .dataframe thead th {\n",
       "        text-align: right;\n",
       "    }\n",
       "</style>\n",
       "<table border=\"1\" class=\"dataframe\">\n",
       "  <thead>\n",
       "    <tr style=\"text-align: right;\">\n",
       "      <th></th>\n",
       "      <th>Cabin</th>\n",
       "      <th>Embarked</th>\n",
       "      <th>Sex</th>\n",
       "      <th>Age</th>\n",
       "      <th>Fare</th>\n",
       "      <th>Pclass</th>\n",
       "      <th>Sibsp</th>\n",
       "      <th>Parch</th>\n",
       "      <th>Survived</th>\n",
       "    </tr>\n",
       "  </thead>\n",
       "  <tbody>\n",
       "    <tr>\n",
       "      <th>1264</th>\n",
       "      <td>-1</td>\n",
       "      <td>S</td>\n",
       "      <td>male</td>\n",
       "      <td>40.500000</td>\n",
       "      <td>14.5000</td>\n",
       "      <td>3</td>\n",
       "      <td>0</td>\n",
       "      <td>2</td>\n",
       "      <td>0</td>\n",
       "    </tr>\n",
       "    <tr>\n",
       "      <th>1089</th>\n",
       "      <td>-1</td>\n",
       "      <td>S</td>\n",
       "      <td>male</td>\n",
       "      <td>20.000000</td>\n",
       "      <td>9.2250</td>\n",
       "      <td>3</td>\n",
       "      <td>0</td>\n",
       "      <td>0</td>\n",
       "      <td>0</td>\n",
       "    </tr>\n",
       "    <tr>\n",
       "      <th>767</th>\n",
       "      <td>-1</td>\n",
       "      <td>S</td>\n",
       "      <td>male</td>\n",
       "      <td>29.881135</td>\n",
       "      <td>7.8958</td>\n",
       "      <td>3</td>\n",
       "      <td>0</td>\n",
       "      <td>0</td>\n",
       "      <td>0</td>\n",
       "    </tr>\n",
       "    <tr>\n",
       "      <th>516</th>\n",
       "      <td>6</td>\n",
       "      <td>S</td>\n",
       "      <td>male</td>\n",
       "      <td>36.500000</td>\n",
       "      <td>26.0000</td>\n",
       "      <td>2</td>\n",
       "      <td>0</td>\n",
       "      <td>2</td>\n",
       "      <td>0</td>\n",
       "    </tr>\n",
       "    <tr>\n",
       "      <th>116</th>\n",
       "      <td>3</td>\n",
       "      <td>S</td>\n",
       "      <td>female</td>\n",
       "      <td>60.000000</td>\n",
       "      <td>263.0000</td>\n",
       "      <td>1</td>\n",
       "      <td>1</td>\n",
       "      <td>4</td>\n",
       "      <td>1</td>\n",
       "    </tr>\n",
       "  </tbody>\n",
       "</table>\n",
       "</div>"
      ],
      "text/plain": [
       "     Cabin Embarked     Sex        Age      Fare  Pclass  Sibsp  Parch  \\\n",
       "1264    -1        S    male  40.500000   14.5000       3      0      2   \n",
       "1089    -1        S    male  20.000000    9.2250       3      0      0   \n",
       "767     -1        S    male  29.881135    7.8958       3      0      0   \n",
       "516      6        S    male  36.500000   26.0000       2      0      2   \n",
       "116      3        S  female  60.000000  263.0000       1      1      4   \n",
       "\n",
       "      Survived  \n",
       "1264         0  \n",
       "1089         0  \n",
       "767          0  \n",
       "516          0  \n",
       "116          1  "
      ]
     },
     "execution_count": 2,
     "metadata": {},
     "output_type": "execute_result"
    }
   ],
   "source": [
    "# https://www.kaggle.com/c/titanic\n",
    "from sklearn.impute import SimpleImputer # Well use imputation to fix the missing values\n",
    "from sklearn.compose import ColumnTransformer \n",
    "from sklearn.model_selection import train_test_split\n",
    "\n",
    "random_state = 34\n",
    "\n",
    "filler = ColumnTransformer(\n",
    "            [('const', SimpleImputer(strategy='constant', fill_value='missing'), ['Cabin', 'Embarked', 'Sex']),\n",
    "             ('mean', SimpleImputer(strategy='mean'), ['Age', 'Fare']),\n",
    "             ('pass', 'passthrough', ['Pclass', 'Sibsp', 'Parch'])])\n",
    "\n",
    "\n",
    "# Store the features here, since they are needed later, note that the order needs to match with above!!\n",
    "features = np.array(['Cabin', 'Embarked', 'Sex', 'Age', 'Fare', 'Pclass', 'Sibsp', 'Parch'])\n",
    "\n",
    "    \n",
    "def __map_cabin(cabin):\n",
    "    if isinstance(cabin, float):\n",
    "        if np.isnan(cabin): \n",
    "            return 0\n",
    "    elif isinstance(cabin, int):\n",
    "        return cabin\n",
    "    elif isinstance(cabin, str):\n",
    "        for i, cclass in enumerate('ABCDEFG'):\n",
    "            if cabin.startswith(cclass): \n",
    "                return i+1\n",
    "        return -1\n",
    "    elif cabin is None: \n",
    "        return -1\n",
    "\n",
    "def check_data(data):\n",
    "    b = pd.DataFrame()\n",
    "    b['count null'] = data.isnull().sum(axis=0) \n",
    "    b['count unique'] = data.nunique()\n",
    "    b['dtype'] = data.dtypes\n",
    "    display(b)\n",
    "\n",
    "\n",
    "def get_data():\n",
    "    X, y = fetch_openml(\"titanic\", version=1, as_frame=True, return_X_y=True)\n",
    "    X = X.drop(columns=['boat', 'home.dest', 'body', 'name', 'ticket'])\n",
    "    \n",
    "    X.columns = [c[0].upper() + c[1:] for c in X.columns]\n",
    "    y.name = 'Survived'\n",
    "    y = y.astype(int)\n",
    "    \n",
    "    print('Before imputing:')\n",
    "    check_data(X)\n",
    "    \n",
    "    dtype_dict = {'Pclass':int,\n",
    "                  'Parch':int, \n",
    "                  'Sibsp':int, \n",
    "                  'Sex':'category',\n",
    "                  'Cabin':'category',\n",
    "                  'Embarked':'category',\n",
    "                  'Age':float,\n",
    "                  'Fare':float} \n",
    " \n",
    "    X.Cabin = X.Cabin.apply(__map_cabin, convert_dtype=True)\n",
    "    X.Embarked = X.Embarked.fillna('S')\n",
    "    \n",
    "    X = filler.fit_transform(X)\n",
    "    \n",
    "    X = pd.DataFrame(data=X, columns=features).astype(dtype_dict)\n",
    "    \n",
    "    print('After imputing:')\n",
    "    check_data(X)\n",
    "    \n",
    "    \n",
    "    return train_test_split(X, y, random_state=random_state)\n",
    "\n",
    "    \n",
    "X, _, y, _ = get_data()\n",
    "data = pd.concat((X, y), axis=1)\n",
    "data.head()"
   ]
  },
  {
   "cell_type": "markdown",
   "metadata": {},
   "source": [
    "pclass: A proxy for socio-economic status (SES)\n",
    "1st = Upper\n",
    "2nd = Middle\n",
    "3rd = Lower\n",
    "\n",
    "age: Age is fractional if less than 1. If the age is estimated, is it in the form of xx.5\n",
    "\n",
    "sibsp: The dataset defines family relations in this way...\n",
    "Sibling = brother, sister, stepbrother, stepsister\n",
    "Spouse = husband, wife (mistresses and fiancés were ignored)\n",
    "\n",
    "parch: The dataset defines family relations in this way...\n",
    "Parent = mother, father\n",
    "Child = daughter, son, stepdaughter, stepson\n",
    "Some children travelled only with a nanny, therefore parch=0 for them."
   ]
  },
  {
   "cell_type": "markdown",
   "metadata": {},
   "source": [
    "## Start exploring:\n",
    "***"
   ]
  },
  {
   "cell_type": "markdown",
   "metadata": {},
   "source": [
    "#### What was the overall probability of survival?"
   ]
  },
  {
   "cell_type": "code",
   "execution_count": 7,
   "metadata": {},
   "outputs": [
    {
     "data": {
      "text/plain": [
       "0.3781855249745158"
      ]
     },
     "execution_count": 7,
     "metadata": {},
     "output_type": "execute_result"
    }
   ],
   "source": [
    "data.Survived.mean()"
   ]
  },
  {
   "cell_type": "markdown",
   "metadata": {},
   "source": [
    "#### What are the age distributions? (Maybe sns.histplot)"
   ]
  },
  {
   "cell_type": "code",
   "execution_count": 8,
   "metadata": {},
   "outputs": [
    {
     "data": {
      "image/png": "[encoded data removed]",
      "text/plain": [
       "<Figure size 864x432 with 1 Axes>"
      ]
     },
     "metadata": {},
     "output_type": "display_data"
    }
   ],
   "source": [
    "sex_palette={'male':'C5', 'female':'C9'}\n",
    "\n",
    "_ = sns.histplot(x=data.Age, hue=data.Sex, data=data, palette=sex_palette, multiple='stack')"
   ]
  },
  {
   "cell_type": "markdown",
   "metadata": {},
   "source": [
    "#### How about the ages in different Pclasses? (sns.boxplot ?)"
   ]
  },
  {
   "cell_type": "code",
   "execution_count": null,
   "metadata": {},
   "outputs": [],
   "source": []
  },
  {
   "cell_type": "markdown",
   "metadata": {},
   "source": [
    "#### Number of tickest sold in different fare classes? (sns.histplot)"
   ]
  },
  {
   "cell_type": "code",
   "execution_count": null,
   "metadata": {},
   "outputs": [],
   "source": []
  },
  {
   "cell_type": "markdown",
   "metadata": {},
   "source": [
    "#### How does the survival probabilty depend on the ticket class and age of a passanger? (sns.barplot function=mean)\n",
    "\n",
    "You will need to create a groups of passangers based on their age using: pd.cut(data.Age, nbins, precision=0) - you can use this as hue for different bars.."
   ]
  },
  {
   "cell_type": "code",
   "execution_count": null,
   "metadata": {},
   "outputs": [],
   "source": []
  },
  {
   "cell_type": "markdown",
   "metadata": {},
   "source": [
    "#### Can you figure out the number of survived/died people by age? (hist) \n",
    "\n",
    "The Survived needs to expressed as boolean and supplied to the hue..."
   ]
  },
  {
   "cell_type": "code",
   "execution_count": null,
   "metadata": {},
   "outputs": [],
   "source": []
  },
  {
   "cell_type": "markdown",
   "metadata": {},
   "source": [
    "#### Is there some differences in survival probabilities between sexes in different age groups?"
   ]
  },
  {
   "cell_type": "code",
   "execution_count": null,
   "metadata": {},
   "outputs": [],
   "source": []
  },
  {
   "cell_type": "markdown",
   "metadata": {},
   "source": [
    "#### How about probability to survive in different fare classes?"
   ]
  },
  {
   "cell_type": "code",
   "execution_count": null,
   "metadata": {},
   "outputs": [],
   "source": []
  },
  {
   "cell_type": "markdown",
   "metadata": {},
   "source": [
    "#### How does the Sex affect the survival probability in different fare classes?"
   ]
  },
  {
   "cell_type": "code",
   "execution_count": null,
   "metadata": {},
   "outputs": [],
   "source": []
  },
  {
   "cell_type": "markdown",
   "metadata": {},
   "source": [
    "#### How about age?"
   ]
  },
  {
   "cell_type": "code",
   "execution_count": null,
   "metadata": {},
   "outputs": [],
   "source": []
  },
  {
   "cell_type": "markdown",
   "metadata": {},
   "source": [
    "#### How does different numerical features correlate in the training data? (This is optional do it unless you know what correlation means...)\n",
    "\n",
    "You can use data.corr() to abtain the correlation matrix and sns.heatmap to plot it."
   ]
  },
  {
   "cell_type": "code",
   "execution_count": null,
   "metadata": {},
   "outputs": [],
   "source": []
  },
  {
   "cell_type": "markdown",
   "metadata": {},
   "source": [
    "## Start modeling:\n",
    "***\n",
    "We are about to start the ML part of the assigment. However, before that make a dummy classifier that you think you are going to beat with fancy classifer."
   ]
  },
  {
   "cell_type": "code",
   "execution_count": 3,
   "metadata": {},
   "outputs": [],
   "source": [
    "def dummy_clf(X): \n",
    "    \"\"\"\n",
    "    Attr:\n",
    "        X : data that you have formatted to be used with the other classifiers as well.\n",
    "    Returns:\n",
    "        y : boolean array is item y[i] = True if X[i] survived and False otherwise.\n",
    "    \"\"\"\n",
    "    \n",
    "    return np.ones(len(X), dtype=bool)"
   ]
  },
  {
   "cell_type": "markdown",
   "metadata": {},
   "source": [
    "#### Perform train valid splitting - the test sets you are only going to use in the last cell!\n",
    "\n",
    "That is split the X_train into X_train and X_valid. Note also, that if you feel like it you can combine the train and validation sets and use cross validation in all that you do after here - it would give you more confidence in the obtained results, but is also touch more difficult. Anyhow choose yourselves - the thing is that you cannot touch the test set!"
   ]
  },
  {
   "cell_type": "code",
   "execution_count": 4,
   "metadata": {},
   "outputs": [
    {
     "name": "stdout",
     "output_type": "stream",
     "text": [
      "Before imputing:\n"
     ]
    },
    {
     "data": {
      "text/html": [
       "<div>\n",
       "<style scoped>\n",
       "    .dataframe tbody tr th:only-of-type {\n",
       "        vertical-align: middle;\n",
       "    }\n",
       "\n",
       "    .dataframe tbody tr th {\n",
       "        vertical-align: top;\n",
       "    }\n",
       "\n",
       "    .dataframe thead th {\n",
       "        text-align: right;\n",
       "    }\n",
       "</style>\n",
       "<table border=\"1\" class=\"dataframe\">\n",
       "  <thead>\n",
       "    <tr style=\"text-align: right;\">\n",
       "      <th></th>\n",
       "      <th>count null</th>\n",
       "      <th>count unique</th>\n",
       "      <th>dtype</th>\n",
       "    </tr>\n",
       "  </thead>\n",
       "  <tbody>\n",
       "    <tr>\n",
       "      <th>Pclass</th>\n",
       "      <td>0</td>\n",
       "      <td>3</td>\n",
       "      <td>float64</td>\n",
       "    </tr>\n",
       "    <tr>\n",
       "      <th>Sex</th>\n",
       "      <td>0</td>\n",
       "      <td>2</td>\n",
       "      <td>category</td>\n",
       "    </tr>\n",
       "    <tr>\n",
       "      <th>Age</th>\n",
       "      <td>263</td>\n",
       "      <td>98</td>\n",
       "      <td>float64</td>\n",
       "    </tr>\n",
       "    <tr>\n",
       "      <th>Sibsp</th>\n",
       "      <td>0</td>\n",
       "      <td>7</td>\n",
       "      <td>float64</td>\n",
       "    </tr>\n",
       "    <tr>\n",
       "      <th>Parch</th>\n",
       "      <td>0</td>\n",
       "      <td>8</td>\n",
       "      <td>float64</td>\n",
       "    </tr>\n",
       "    <tr>\n",
       "      <th>Fare</th>\n",
       "      <td>1</td>\n",
       "      <td>281</td>\n",
       "      <td>float64</td>\n",
       "    </tr>\n",
       "    <tr>\n",
       "      <th>Cabin</th>\n",
       "      <td>1014</td>\n",
       "      <td>186</td>\n",
       "      <td>object</td>\n",
       "    </tr>\n",
       "    <tr>\n",
       "      <th>Embarked</th>\n",
       "      <td>2</td>\n",
       "      <td>3</td>\n",
       "      <td>category</td>\n",
       "    </tr>\n",
       "  </tbody>\n",
       "</table>\n",
       "</div>"
      ],
      "text/plain": [
       "          count null  count unique     dtype\n",
       "Pclass             0             3   float64\n",
       "Sex                0             2  category\n",
       "Age              263            98   float64\n",
       "Sibsp              0             7   float64\n",
       "Parch              0             8   float64\n",
       "Fare               1           281   float64\n",
       "Cabin           1014           186    object\n",
       "Embarked           2             3  category"
      ]
     },
     "metadata": {},
     "output_type": "display_data"
    },
    {
     "name": "stdout",
     "output_type": "stream",
     "text": [
      "After imputing:\n"
     ]
    },
    {
     "data": {
      "text/html": [
       "<div>\n",
       "<style scoped>\n",
       "    .dataframe tbody tr th:only-of-type {\n",
       "        vertical-align: middle;\n",
       "    }\n",
       "\n",
       "    .dataframe tbody tr th {\n",
       "        vertical-align: top;\n",
       "    }\n",
       "\n",
       "    .dataframe thead th {\n",
       "        text-align: right;\n",
       "    }\n",
       "</style>\n",
       "<table border=\"1\" class=\"dataframe\">\n",
       "  <thead>\n",
       "    <tr style=\"text-align: right;\">\n",
       "      <th></th>\n",
       "      <th>count null</th>\n",
       "      <th>count unique</th>\n",
       "      <th>dtype</th>\n",
       "    </tr>\n",
       "  </thead>\n",
       "  <tbody>\n",
       "    <tr>\n",
       "      <th>Cabin</th>\n",
       "      <td>0</td>\n",
       "      <td>8</td>\n",
       "      <td>category</td>\n",
       "    </tr>\n",
       "    <tr>\n",
       "      <th>Embarked</th>\n",
       "      <td>0</td>\n",
       "      <td>3</td>\n",
       "      <td>category</td>\n",
       "    </tr>\n",
       "    <tr>\n",
       "      <th>Sex</th>\n",
       "      <td>0</td>\n",
       "      <td>2</td>\n",
       "      <td>category</td>\n",
       "    </tr>\n",
       "    <tr>\n",
       "      <th>Age</th>\n",
       "      <td>0</td>\n",
       "      <td>99</td>\n",
       "      <td>float64</td>\n",
       "    </tr>\n",
       "    <tr>\n",
       "      <th>Fare</th>\n",
       "      <td>0</td>\n",
       "      <td>282</td>\n",
       "      <td>float64</td>\n",
       "    </tr>\n",
       "    <tr>\n",
       "      <th>Pclass</th>\n",
       "      <td>0</td>\n",
       "      <td>3</td>\n",
       "      <td>int64</td>\n",
       "    </tr>\n",
       "    <tr>\n",
       "      <th>Sibsp</th>\n",
       "      <td>0</td>\n",
       "      <td>7</td>\n",
       "      <td>int64</td>\n",
       "    </tr>\n",
       "    <tr>\n",
       "      <th>Parch</th>\n",
       "      <td>0</td>\n",
       "      <td>8</td>\n",
       "      <td>int64</td>\n",
       "    </tr>\n",
       "  </tbody>\n",
       "</table>\n",
       "</div>"
      ],
      "text/plain": [
       "          count null  count unique     dtype\n",
       "Cabin              0             8  category\n",
       "Embarked           0             3  category\n",
       "Sex                0             2  category\n",
       "Age                0            99   float64\n",
       "Fare               0           282   float64\n",
       "Pclass             0             3     int64\n",
       "Sibsp              0             7     int64\n",
       "Parch              0             8     int64"
      ]
     },
     "metadata": {},
     "output_type": "display_data"
    },
    {
     "data": {
      "text/html": [
       "<div>\n",
       "<style scoped>\n",
       "    .dataframe tbody tr th:only-of-type {\n",
       "        vertical-align: middle;\n",
       "    }\n",
       "\n",
       "    .dataframe tbody tr th {\n",
       "        vertical-align: top;\n",
       "    }\n",
       "\n",
       "    .dataframe thead th {\n",
       "        text-align: right;\n",
       "    }\n",
       "</style>\n",
       "<table border=\"1\" class=\"dataframe\">\n",
       "  <thead>\n",
       "    <tr style=\"text-align: right;\">\n",
       "      <th></th>\n",
       "      <th>Cabin</th>\n",
       "      <th>Embarked</th>\n",
       "      <th>Sex</th>\n",
       "      <th>Age</th>\n",
       "      <th>Fare</th>\n",
       "      <th>Pclass</th>\n",
       "      <th>Sibsp</th>\n",
       "      <th>Parch</th>\n",
       "    </tr>\n",
       "  </thead>\n",
       "  <tbody>\n",
       "    <tr>\n",
       "      <th>64</th>\n",
       "      <td>5</td>\n",
       "      <td>S</td>\n",
       "      <td>male</td>\n",
       "      <td>27.000000</td>\n",
       "      <td>53.10</td>\n",
       "      <td>1</td>\n",
       "      <td>1</td>\n",
       "      <td>0</td>\n",
       "    </tr>\n",
       "    <tr>\n",
       "      <th>12</th>\n",
       "      <td>2</td>\n",
       "      <td>C</td>\n",
       "      <td>female</td>\n",
       "      <td>24.000000</td>\n",
       "      <td>69.30</td>\n",
       "      <td>1</td>\n",
       "      <td>0</td>\n",
       "      <td>0</td>\n",
       "    </tr>\n",
       "    <tr>\n",
       "      <th>1001</th>\n",
       "      <td>-1</td>\n",
       "      <td>Q</td>\n",
       "      <td>female</td>\n",
       "      <td>29.881135</td>\n",
       "      <td>23.25</td>\n",
       "      <td>3</td>\n",
       "      <td>2</td>\n",
       "      <td>0</td>\n",
       "    </tr>\n",
       "    <tr>\n",
       "      <th>896</th>\n",
       "      <td>-1</td>\n",
       "      <td>S</td>\n",
       "      <td>male</td>\n",
       "      <td>49.000000</td>\n",
       "      <td>0.00</td>\n",
       "      <td>3</td>\n",
       "      <td>0</td>\n",
       "      <td>0</td>\n",
       "    </tr>\n",
       "    <tr>\n",
       "      <th>210</th>\n",
       "      <td>3</td>\n",
       "      <td>S</td>\n",
       "      <td>male</td>\n",
       "      <td>55.000000</td>\n",
       "      <td>30.50</td>\n",
       "      <td>1</td>\n",
       "      <td>0</td>\n",
       "      <td>0</td>\n",
       "    </tr>\n",
       "  </tbody>\n",
       "</table>\n",
       "</div>"
      ],
      "text/plain": [
       "     Cabin Embarked     Sex        Age   Fare  Pclass  Sibsp  Parch\n",
       "64       5        S    male  27.000000  53.10       1      1      0\n",
       "12       2        C  female  24.000000  69.30       1      0      0\n",
       "1001    -1        Q  female  29.881135  23.25       3      2      0\n",
       "896     -1        S    male  49.000000   0.00       3      0      0\n",
       "210      3        S    male  55.000000  30.50       1      0      0"
      ]
     },
     "metadata": {},
     "output_type": "display_data"
    },
    {
     "data": {
      "text/plain": [
       "64      1\n",
       "12      1\n",
       "1001    1\n",
       "896     0\n",
       "210     0\n",
       "Name: Survived, dtype: int64"
      ]
     },
     "execution_count": 4,
     "metadata": {},
     "output_type": "execute_result"
    }
   ],
   "source": [
    "# Variables with undersocre at end you should not modify!\n",
    "X_train, X_test_, y_train, y_test_ = get_data() \n",
    "\n",
    "# Split the train set alson into validation set. You are not allowed to touch the test set - it is only used in the final evaluation of your performance.\n",
    "X_train_, X_valid_, y_train_, y_valid_ = train_test_split(X_train, y_train, random_state=random_state) \n",
    "\n",
    "display(X_train_.head())\n",
    "y_train_.head()"
   ]
  },
  {
   "cell_type": "markdown",
   "metadata": {},
   "source": [
    "### Encode the categorical features into numerical ones. Remember to apply the encoder in all the train, valid, and test sets. \n",
    "\n",
    "Also if you need to do some other preprocessing before feeding the data to the classifier do it now. Do not manipulate the X_xxx_, but create you own encoded sets, like X_train_enc etc.  "
   ]
  },
  {
   "cell_type": "code",
   "execution_count": 10,
   "metadata": {},
   "outputs": [
    {
     "ename": "AttributeError",
     "evalue": "'NoneType' object has no attribute 'fit_transform'",
     "output_type": "error",
     "traceback": [
      "\u001b[0;31m---------------------------------------------------------------------------\u001b[0m",
      "\u001b[0;31mAttributeError\u001b[0m                            Traceback (most recent call last)",
      "\u001b[0;32m<ipython-input-10-10ed9d886c1f>\u001b[0m in \u001b[0;36m<module>\u001b[0;34m\u001b[0m\n\u001b[1;32m      3\u001b[0m \u001b[0;34m\u001b[0m\u001b[0m\n\u001b[1;32m      4\u001b[0m \u001b[0mencoder\u001b[0m \u001b[0;34m=\u001b[0m \u001b[0;32mNone\u001b[0m\u001b[0;34m\u001b[0m\u001b[0;34m\u001b[0m\u001b[0m\n\u001b[0;32m----> 5\u001b[0;31m \u001b[0mX_train_enc\u001b[0m \u001b[0;34m=\u001b[0m \u001b[0mencoder\u001b[0m\u001b[0;34m.\u001b[0m\u001b[0mfit_transform\u001b[0m\u001b[0;34m(\u001b[0m\u001b[0mX_train_\u001b[0m\u001b[0;34m)\u001b[0m\u001b[0;34m\u001b[0m\u001b[0;34m\u001b[0m\u001b[0m\n\u001b[0m\u001b[1;32m      6\u001b[0m \u001b[0mX_valid_enc\u001b[0m \u001b[0;34m=\u001b[0m \u001b[0mencoder\u001b[0m\u001b[0;34m.\u001b[0m\u001b[0mtransform\u001b[0m\u001b[0;34m(\u001b[0m\u001b[0mX_valid_\u001b[0m\u001b[0;34m)\u001b[0m\u001b[0;34m\u001b[0m\u001b[0;34m\u001b[0m\u001b[0m\n\u001b[1;32m      7\u001b[0m \u001b[0mX_test_enc\u001b[0m \u001b[0;34m=\u001b[0m \u001b[0mencoder\u001b[0m\u001b[0;34m.\u001b[0m\u001b[0mtransform\u001b[0m\u001b[0;34m(\u001b[0m\u001b[0mX_test_\u001b[0m\u001b[0;34m)\u001b[0m\u001b[0;34m\u001b[0m\u001b[0;34m\u001b[0m\u001b[0m\n",
      "\u001b[0;31mAttributeError\u001b[0m: 'NoneType' object has no attribute 'fit_transform'"
     ]
    }
   ],
   "source": [
    "from sklearn.preprocessing import OrdinalEncoder\n",
    "from sklearn.compose import ColumnTransformer, make_column_selector\n",
    "\n",
    "encoder = None\n",
    "X_train_enc = encoder.fit_transform(X_train_)\n",
    "X_valid_enc = encoder.transform(X_valid_)\n",
    "X_test_enc = encoder.transform(X_test_)\n",
    "\n",
    "# Maybe you want to cast these back to dataframes along the lines: \n",
    "X_train_enc = pd.DataFrame(index=X_train_.index, data=X_train_enc, columns=features)\n",
    "#...\n",
    "\n",
    "display(X_train_enc.head())"
   ]
  },
  {
   "cell_type": "markdown",
   "metadata": {},
   "source": [
    "#### Do classification: \n",
    "Pick your choice of [classifier](https://scikit-learn.org/stable/supervised_learning.html) from sklearn - or wherever for that matter. Fit it in the training set and do hyper parameter tunings using only train and validations sets. Remember you are not to touch the test set! You can build several different classifiers and see which works best. Moreover, as stated you are not restricted to Tree and RF in case you want to use something else you are free to do so, jsut make sure you know what you are doing. \n",
    "\n",
    "Eventually your performance is measured in accuracy so maybe good idea to try to optimize for that."
   ]
  },
  {
   "cell_type": "code",
   "execution_count": null,
   "metadata": {},
   "outputs": [],
   "source": []
  },
  {
   "cell_type": "markdown",
   "metadata": {},
   "source": [
    "#### Evaluate the performance of your classifiers, and compare agains the dummy classifier. You can use sklearn.metrics.classification_report:"
   ]
  },
  {
   "cell_type": "code",
   "execution_count": 7,
   "metadata": {},
   "outputs": [
    {
     "name": "stdout",
     "output_type": "stream",
     "text": [
      "Dummy clf:\n",
      "              precision    recall  f1-score   support\n",
      "\n",
      "           0     0.0000    0.0000    0.0000       143\n",
      "           1     0.4187    1.0000    0.5903       103\n",
      "\n",
      "    accuracy                         0.4187       246\n",
      "   macro avg     0.2093    0.5000    0.2951       246\n",
      "weighted avg     0.1753    0.4187    0.2471       246\n",
      "\n",
      "Your clf:\n"
     ]
    },
    {
     "name": "stderr",
     "output_type": "stream",
     "text": [
      "/opt/conda/lib/python3.8/site-packages/sklearn/metrics/_classification.py:1221: UndefinedMetricWarning: Precision and F-score are ill-defined and being set to 0.0 in labels with no predicted samples. Use `zero_division` parameter to control this behavior.\n",
      "  _warn_prf(average, modifier, msg_start, len(result))\n"
     ]
    },
    {
     "ename": "NameError",
     "evalue": "name 'your_clf' is not defined",
     "output_type": "error",
     "traceback": [
      "\u001b[0;31m---------------------------------------------------------------------------\u001b[0m",
      "\u001b[0;31mNameError\u001b[0m                                 Traceback (most recent call last)",
      "\u001b[0;32m<ipython-input-7-e6215eb0c277>\u001b[0m in \u001b[0;36m<module>\u001b[0;34m\u001b[0m\n\u001b[1;32m      4\u001b[0m \u001b[0mprint\u001b[0m\u001b[0;34m(\u001b[0m\u001b[0mclassification_report\u001b[0m\u001b[0;34m(\u001b[0m\u001b[0my_valid_\u001b[0m\u001b[0;34m,\u001b[0m \u001b[0mdummy_clf\u001b[0m\u001b[0;34m(\u001b[0m\u001b[0mX_valid_\u001b[0m\u001b[0;34m)\u001b[0m\u001b[0;34m,\u001b[0m \u001b[0mdigits\u001b[0m\u001b[0;34m=\u001b[0m\u001b[0;36m4\u001b[0m\u001b[0;34m)\u001b[0m\u001b[0;34m)\u001b[0m\u001b[0;34m\u001b[0m\u001b[0;34m\u001b[0m\u001b[0m\n\u001b[1;32m      5\u001b[0m \u001b[0mprint\u001b[0m\u001b[0;34m(\u001b[0m\u001b[0;34m'Your clf:'\u001b[0m\u001b[0;34m)\u001b[0m\u001b[0;34m\u001b[0m\u001b[0;34m\u001b[0m\u001b[0m\n\u001b[0;32m----> 6\u001b[0;31m \u001b[0mprint\u001b[0m\u001b[0;34m(\u001b[0m\u001b[0mclassification_report\u001b[0m\u001b[0;34m(\u001b[0m\u001b[0my_valid_\u001b[0m\u001b[0;34m,\u001b[0m \u001b[0myour_clf\u001b[0m\u001b[0;34m.\u001b[0m\u001b[0mpredict\u001b[0m\u001b[0;34m(\u001b[0m\u001b[0mX_valid_enc\u001b[0m\u001b[0;34m)\u001b[0m\u001b[0;34m,\u001b[0m \u001b[0mdigits\u001b[0m\u001b[0;34m=\u001b[0m\u001b[0;36m4\u001b[0m\u001b[0;34m)\u001b[0m\u001b[0;34m)\u001b[0m\u001b[0;34m\u001b[0m\u001b[0;34m\u001b[0m\u001b[0m\n\u001b[0m",
      "\u001b[0;31mNameError\u001b[0m: name 'your_clf' is not defined"
     ]
    }
   ],
   "source": [
    "from sklearn.metrics import classification_report\n",
    "\n",
    "print('Dummy clf:')\n",
    "print(classification_report(y_valid_, dummy_clf(X_valid_), digits=4))\n",
    "print('Your clf:')\n",
    "print(classification_report(y_valid_, your_clf.predict(X_valid_enc), digits=4))"
   ]
  },
  {
   "cell_type": "markdown",
   "metadata": {},
   "source": [
    "### Consider the feature importances of your chosen classifiers if those are available:\n",
    "You can try to see if removing features would increase your classifiers performance (as measured by accuracy in the validation set). Remember though still kepp working only with the train and valid sets."
   ]
  },
  {
   "cell_type": "code",
   "execution_count": null,
   "metadata": {},
   "outputs": [],
   "source": []
  },
  {
   "cell_type": "markdown",
   "metadata": {},
   "source": [
    "#### The final score is rerorted by this - you can provide your own train and test sets, but remember make sure the indexing matches the ones in y_train_ and y_test_:\n",
    "\n",
    "You will be supplied with a random state in the beginning of the presentation so the train, valid, and test sets will change - you won't be able to tune for optimal test set performance even if you tried. Moreover, try different random_states yourselve since this can reveal some issues in the preprocessing pipe you have devised."
   ]
  },
  {
   "cell_type": "code",
   "execution_count": 40,
   "metadata": {},
   "outputs": [],
   "source": [
    "def report_final_result(model, X_train, X_test):\n",
    "    \n",
    "    model.fit(X_train, y_train_)\n",
    "    preds =  model.predict(X_test)\n",
    "\n",
    "    print('Score: {:.5f}'.format(accuracy_score(y_test_, preds)))\n",
    "    print('Dummy: {:.5f}'.format(accuracy_score(y_test_, dummy_clf(X_test_))))"
   ]
  },
  {
   "cell_type": "code",
   "execution_count": 9,
   "metadata": {},
   "outputs": [
    {
     "ename": "TypeError",
     "evalue": "print() argument after * must be an iterable, not NoneType",
     "output_type": "error",
     "traceback": [
      "\u001b[0;31m---------------------------------------------------------------------------\u001b[0m",
      "\u001b[0;31mTypeError\u001b[0m                                 Traceback (most recent call last)",
      "\u001b[0;32m<ipython-input-9-062bb9959206>\u001b[0m in \u001b[0;36m<module>\u001b[0;34m\u001b[0m\n\u001b[1;32m      2\u001b[0m \u001b[0mselected_features\u001b[0m \u001b[0;34m=\u001b[0m \u001b[0;32mNone\u001b[0m\u001b[0;34m\u001b[0m\u001b[0;34m\u001b[0m\u001b[0m\n\u001b[1;32m      3\u001b[0m \u001b[0;34m\u001b[0m\u001b[0m\n\u001b[0;32m----> 4\u001b[0;31m \u001b[0mprint\u001b[0m\u001b[0;34m(\u001b[0m\u001b[0;34m'Using features:'\u001b[0m\u001b[0;34m,\u001b[0m \u001b[0;34m*\u001b[0m\u001b[0mselected_features\u001b[0m\u001b[0;34m)\u001b[0m\u001b[0;34m\u001b[0m\u001b[0;34m\u001b[0m\u001b[0m\n\u001b[0m\u001b[1;32m      5\u001b[0m \u001b[0;34m\u001b[0m\u001b[0m\n\u001b[1;32m      6\u001b[0m report_final_result(rf, \n",
      "\u001b[0;31mTypeError\u001b[0m: print() argument after * must be an iterable, not NoneType"
     ]
    }
   ],
   "source": [
    "# Your features:\n",
    "selected_features = None\n",
    "\n",
    "print('Using features:', *selected_features)\n",
    "\n",
    "report_final_result(rf, \n",
    "                    X_train_enc.loc[:, selected_features_rf], \n",
    "                    X_test_enc.loc[:, selected_features_rf])\n",
    "\n",
    "\n",
    "\n"
   ]
  }
 ],
 "metadata": {
  "kernelspec": {
   "display_name": "Python 3",
   "language": "python",
   "name": "python3"
  },
  "language_info": {
   "codemirror_mode": {
    "name": "ipython",
    "version": 3
   },
   "file_extension": ".py",
   "mimetype": "text/x-python",
   "name": "python",
   "nbconvert_exporter": "python",
   "pygments_lexer": "ipython3",
   "version": "3.8.5"
  }
 },
 "nbformat": 4,
 "nbformat_minor": 4
}
